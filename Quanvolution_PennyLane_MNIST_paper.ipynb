{
  "cells": [
    {
      "cell_type": "markdown",
      "metadata": {},
      "source": [
        "## Quanvolution (PennyLane + PyTorch)\n",
        "**논문 설정에 맞춘 구현**"
      ]
    },
    {
      "cell_type": "code",
      "execution_count": 1,
      "metadata": {
        "tags": [
          "hide-output"
        ]
      },
      "outputs": [
        {
          "name": "stdout",
          "output_type": "stream",
          "text": [
            "torch 2.8.0+cpu | pennylane 0.42.3\n"
          ]
        }
      ],
      "source": [
        "# 필수 패키지 (이미 설치했다면 건너뛰세요)\n",
        "try:\n",
        "    import pennylane as qml\n",
        "    import torch, torchvision\n",
        "except Exception:\n",
        "    %pip -q install pennylane torch torchvision\n",
        "import os\n",
        "import pennylane as qml\n",
        "import torch, torchvision\n",
        "import numpy as np\n",
        "import copy\n",
        "import torch.nn as nn\n",
        "import torch.nn.functional as F\n",
        "from torch.utils.data import DataLoader, TensorDataset\n",
        "from sklearn.model_selection import train_test_split\n",
        "from torchvision import datasets, transforms\n",
        "import matplotlib.pyplot as plt\n",
        "print('torch', torch.__version__, '| pennylane', qml.version())"
      ]
    },
    {
      "cell_type": "markdown",
      "id": "7d85bf5c",
      "metadata": {},
      "source": [
        "### 모르는 부분 간단 정리\n",
        "**CHANNELS**\n",
        "다양하게 여러번 보는 느낌?\n",
        "-> 중간 정도로(6~8) 설정해보고, 속도나 성능에 따라서 조절해보자\n",
        "\n",
        "**Epochs**\n",
        "다 본걸 다시 보는 느낌\n",
        "-> 너무 커지면 과적합\n",
        "-> 작게 설정해서 키워보면서 해보자"
      ]
    },
    {
      "cell_type": "code",
      "execution_count": 2,
      "metadata": {},
      "outputs": [],
      "source": [
        "# 설정값 (논문 정렬)\n",
        "TRAIN_COUNT = 4000     # 훈련 샘플 수. \n",
        "TEST_COUNT  = 1000     # 테스트 샘플 수\n",
        "CHANNELS    = 6       # 양자 채널 수(4~12, 4의 배수로 해야하나?)\n",
        "EPOCHS      = 30     # Epoch 수(5~20으로)\n",
        "HIDDEN_UNITS= 128      # 은닉층 넓이 , 128일 때 0.95\n",
        "BATCH_TRAIN = 128      # 훈련 배치 크기\n",
        "BATCH_TEST  = 128      # 테스트 배치 크기\n",
        "MAX_QNODE_BATCH = 64   # 패치별 QNode 호출의 내부 분할 크기\n",
        "CACHE_DIR   = './quanv_cache_paper'\n",
        "SEED        = 42\n",
        "os.makedirs(CACHE_DIR, exist_ok=True)\n",
        "\n",
        "torch.manual_seed(SEED)\n",
        "np.random.seed(SEED)"
      ]
    },
    {
      "cell_type": "code",
      "execution_count": 3,
      "metadata": {},
      "outputs": [
        {
          "name": "stdout",
          "output_type": "stream",
          "text": [
            "[Backend] lightning.qubit\n"
          ]
        }
      ],
      "source": [
        "# 백엔드 선택 (lightning.qubit → default.qubit 폴백)\n",
        "def make_device(wires=4):\n",
        "    try:\n",
        "        dev = qml.device('lightning.qubit', wires=wires)\n",
        "        print('[Backend] lightning.qubit')\n",
        "        return dev\n",
        "    except Exception as e:\n",
        "        print(f'[Backend] lightning.qubit 사용 불가 → default.qubit ({e})')\n",
        "        dev = qml.device('default.qubit', wires=wires)\n",
        "        print('[Backend] default.qubit')\n",
        "        return dev\n",
        "\n",
        "DEV = make_device(4)"
      ]
    },
    {
      "cell_type": "code",
      "execution_count": 4,
      "metadata": {},
      "outputs": [
        {
          "name": "stdout",
          "output_type": "stream",
          "text": [
            "data: torch.Size([4000, 1, 10, 10]) torch.Size([1000, 1, 10, 10])\n"
          ]
        }
      ],
      "source": [
        "# ✅ 데이터 준비: MNIST 10×10\n",
        "def load_mnist_10x10(train_count=TRAIN_COUNT, test_count=TEST_COUNT):\n",
        "    tfm = transforms.Compose([\n",
        "        transforms.ToTensor(),\n",
        "        transforms.Resize((10,10)),\n",
        "    ])\n",
        "    train_ds = datasets.MNIST(root='./data', train=True, download=True, transform=tfm)\n",
        "    test_ds  = datasets.MNIST(root='./data', train=False, download=True, transform=tfm)\n",
        "    x_train = torch.stack([train_ds[i][0] for i in range(train_count)])  # (N,1,10,10)\n",
        "    y_train = torch.tensor([train_ds[i][1] for i in range(train_count)])\n",
        "    x_test  = torch.stack([test_ds[i][0]  for i in range(test_count)])\n",
        "    y_test  = torch.tensor([test_ds[i][1] for i in range(test_count)])\n",
        "    return (x_train, y_train), (x_test, y_test)\n",
        "\n",
        "(x_train, y_train), (x_test, y_test) = load_mnist_10x10()\n",
        "print('data:', x_train.shape, x_test.shape)"
      ]
    },
    {
      "cell_type": "code",
      "execution_count": 5,
      "id": "26422100",
      "metadata": {},
      "outputs": [],
      "source": [
        "def plot_sample(idx: int, split: str = \"train\"):\n",
        "    \n",
        "    X, Y = (x_train, y_train) if split == \"train\" else (x_test, y_test)\n",
        "    if not (0 <= idx < len(X)):\n",
        "        raise ValueError(f\"idx 범위 초과: 0 <= idx < {len(X)}\")\n",
        "\n",
        "    img   = X[idx].squeeze(0).cpu()  # (10,10)\n",
        "    label = int(Y[idx])\n",
        "\n",
        "    plt.figure(figsize=(3, 3))\n",
        "    plt.imshow(img, cmap=\"gray\", vmin=0, vmax=1)\n",
        "    plt.title(f\"{split} idx={idx}, label={label}\")\n",
        "    plt.axis(\"off\")\n",
        "    plt.show()"
      ]
    },
    {
      "cell_type": "code",
      "execution_count": 6,
      "id": "6b940214",
      "metadata": {},
      "outputs": [
        {
          "data": {
            "image/png": "[encoded data removed]",
            "text/plain": [
              "<Figure size 300x300 with 1 Axes>"
            ]
          },
          "metadata": {},
          "output_type": "display_data"
        },
        {
          "data": {
            "image/png": "[encoded data removed]",
            "text/plain": [
              "<Figure size 300x300 with 1 Axes>"
            ]
          },
          "metadata": {},
          "output_type": "display_data"
        }
      ],
      "source": [
        "plot_sample(0, \"train\")\n",
        "plot_sample(0, \"test\")"
      ]
    },
    {
      "cell_type": "code",
      "execution_count": 7,
      "metadata": {},
      "outputs": [],
      "source": [
        "# 2×2 패치 → 4 큐빗 인코딩 + 얽힘 회로 + 랜덤 단일 큐빗 회전 (비학습형)\n",
        "def random_weights(seed=0):\n",
        "    rng = np.random.default_rng(seed)\n",
        "    return np.array(rng.uniform(0, 2*np.pi, size=(4,2)), dtype=np.float32)  # 각 큐빗 (RZ,RX)\n",
        "\n",
        "@qml.qnode(DEV, interface='torch')\n",
        "def patch_qnode(pix4, weights):\n",
        "    # 데이터 인코딩: 입력 ∈ [0,1] → RX(pi*x)\n",
        "    for w in range(4):\n",
        "        qml.RX(np.pi * pix4[w], wires=w)\n",
        "    # 얽힘 (CZ 체인)\n",
        "    qml.CZ(wires=[0,1]); qml.CZ(wires=[2,3]); qml.CZ(wires=[0,2]); qml.CZ(wires=[1,3])\n",
        "    # 랜덤 단일 큐빗 회전\n",
        "    for w in range(4):\n",
        "        qml.RZ(weights[w,0], wires=w)\n",
        "        qml.RX(weights[w,1], wires=w)\n",
        "    # 4개 큐빗 Z 기대값 (튜플로 반환 → 바깥에서 torch.stack)\n",
        "    return (\n",
        "        qml.expval(qml.PauliZ(0)),\n",
        "        qml.expval(qml.PauliZ(1)),\n",
        "        qml.expval(qml.PauliZ(2)),\n",
        "        qml.expval(qml.PauliZ(3)),\n",
        "    )\n",
        "\n",
        "WEIGHTS = [torch.tensor(random_weights(1000+c), dtype=torch.float32) for c in range(CHANNELS)]"
      ]
    },
    {
      "cell_type": "code",
      "execution_count": 8,
      "metadata": {},
      "outputs": [],
      "source": [
        "# 패치 추출 (2×2, stride 2) → (N,5,5,4)\n",
        "def extract_patches_2x2_stride2(x):  # x: (N,1,10,10)\n",
        "    N = x.shape[0]\n",
        "    patches = torch.zeros((N,5,5,4), dtype=torch.float32)\n",
        "    for i in range(5):\n",
        "        for j in range(5):\n",
        "            patch = x[:, :, 2*i:2*i+2, 2*j:2*j+2].reshape(N, 4)\n",
        "            patches[:, i, j, :] = patch\n",
        "    return patches"
      ]
    },
    {
      "cell_type": "code",
      "execution_count": 9,
      "metadata": {},
      "outputs": [
        {
          "name": "stdout",
          "output_type": "stream",
          "text": [
            "features: torch.Size([4000, 5, 5, 24]) torch.Size([1000, 5, 5, 24])\n"
          ]
        }
      ],
      "source": [
        "# Quanvolution 변환: (N,1,10,10) → (N,5,5, CHANNELS*4)\n",
        "@torch.no_grad()\n",
        "def quanv_transform(x, channels=CHANNELS, max_batches=MAX_QNODE_BATCH, cache_key=None):\n",
        "    # 캐시 로드\n",
        "    if cache_key is not None:\n",
        "        fpath = os.path.join(CACHE_DIR, cache_key)\n",
        "        if os.path.isfile(fpath):\n",
        "            npz = np.load(fpath)\n",
        "            feat = torch.tensor(npz['feat'])\n",
        "            return feat\n",
        "\n",
        "    patches = extract_patches_2x2_stride2(x)  # (N,5,5,4)\n",
        "    N = patches.shape[0]\n",
        "    feats = torch.zeros((N,5,5,channels*4), dtype=torch.float32)\n",
        "    for i in range(5):\n",
        "        for j in range(5):\n",
        "            p = patches[:, i, j, :]  # (N,4)\n",
        "            for ch in range(channels):\n",
        "                out_chunks = []\n",
        "                for s in range(0, N, max_batches):\n",
        "                    batch = p[s:s+max_batches]\n",
        "                    vals = []\n",
        "                    for b in batch:\n",
        "                        exps = patch_qnode(b, WEIGHTS[ch])       # tuple of 4 scalars\n",
        "                        exps = torch.stack(exps)                  # (4,)\n",
        "                        vals.append(exps.unsqueeze(0))            # (1,4)\n",
        "                    out_chunks.append(torch.cat(vals, dim=0))     # (bs,4)\n",
        "                combined = torch.cat(out_chunks, dim=0)           # (N,4)\n",
        "                feats[:, i, j, ch*4:(ch+1)*4] = combined\n",
        "    # 캐시 저장\n",
        "    if cache_key is not None:\n",
        "        np.savez_compressed(os.path.join(CACHE_DIR, cache_key), feat=feats.numpy())\n",
        "    return feats\n",
        "\n",
        "train_key = f'train_feat_C{CHANNELS}_N{TRAIN_COUNT}_4qubits.npz'\n",
        "test_key  = f'test_feat_C{CHANNELS}_N{TEST_COUNT}_4qubits.npz'\n",
        "x_train_feat = quanv_transform(x_train, channels=CHANNELS, cache_key=train_key)\n",
        "x_test_feat  = quanv_transform(x_test,  channels=CHANNELS, cache_key=test_key)\n",
        "print('features:', x_train_feat.shape, x_test_feat.shape)"
      ]
    },
    {
      "cell_type": "code",
      "execution_count": 10,
      "metadata": {},
      "outputs": [],
      "source": [
        "# 분류기: Flatten → Dense(128) → Dense(10)\n",
        "class Classifier(nn.Module):\n",
        "    def __init__(self, channels=CHANNELS, hidden=HIDDEN_UNITS):\n",
        "        super().__init__()\n",
        "        self.fc1 = nn.Linear(5*5*channels*4, hidden)  # 4qubits 유지\n",
        "        self.drop = nn.Dropout(0.2)\n",
        "        self.fc2 = nn.Linear(hidden, 10)\n",
        "    def forward(self, x):\n",
        "        x = x.view(x.size(0), -1)\n",
        "        x = F.relu(self.fc1(x))\n",
        "        x = self.drop(x)\n",
        "        return self.fc2(x)\n",
        "\n",
        "def evaluate(model, loader):\n",
        "    model.eval(); correct = total = 0\n",
        "    with torch.no_grad():\n",
        "        for xb, yb in loader:\n",
        "            logits = model(xb)\n",
        "            pred = logits.argmax(dim=1)\n",
        "            correct += (pred == yb).sum().item()\n",
        "            total += yb.numel()\n",
        "    return correct/total"
      ]
    },
    {
      "cell_type": "code",
      "execution_count": 11,
      "id": "51e2d634",
      "metadata": {},
      "outputs": [],
      "source": [
        "idx = torch.arange(len(x_train_feat))\n",
        "tr_idx, va_idx = train_test_split(\n",
        "    idx.numpy(), test_size=0.1, random_state=SEED,\n",
        "    stratify=y_train.numpy()\n",
        ")\n",
        "tr_idx, va_idx = torch.tensor(tr_idx), torch.tensor(va_idx)\n",
        "\n",
        "train_loader = DataLoader(\n",
        "    TensorDataset(x_train_feat[tr_idx], y_train[tr_idx]),\n",
        "    batch_size=BATCH_TRAIN, shuffle=True\n",
        ")\n",
        "val_loader = DataLoader(\n",
        "    TensorDataset(x_train_feat[va_idx], y_train[va_idx]),\n",
        "    batch_size=BATCH_TEST, shuffle=False\n",
        ")\n",
        "test_loader = DataLoader(\n",
        "    TensorDataset(x_test_feat, y_test),\n",
        "    batch_size=BATCH_TEST, shuffle=False\n",
        ")"
      ]
    },
    {
      "cell_type": "code",
      "execution_count": 12,
      "id": "d445ed99",
      "metadata": {},
      "outputs": [
        {
          "name": "stdout",
          "output_type": "stream",
          "text": [
            "[01/30] train 1.8183/0.491 | val 1.3261/0.625 | lr 1.00e-03\n",
            "[02/30] train 1.0764/0.717 | val 0.8669/0.752 | lr 1.00e-03\n",
            "[03/30] train 0.7622/0.787 | val 0.6745/0.810 | lr 1.00e-03\n",
            "[04/30] train 0.6440/0.813 | val 0.6231/0.820 | lr 1.00e-03\n",
            "[05/30] train 0.5560/0.839 | val 0.5481/0.848 | lr 1.00e-03\n",
            "[06/30] train 0.4880/0.865 | val 0.5088/0.863 | lr 1.00e-03\n",
            "[07/30] train 0.4641/0.868 | val 0.4861/0.865 | lr 1.00e-03\n",
            "[08/30] train 0.4304/0.876 | val 0.4680/0.880 | lr 1.00e-03\n",
            "[09/30] train 0.4039/0.883 | val 0.4518/0.873 | lr 1.00e-03\n",
            "[10/30] train 0.3720/0.892 | val 0.4478/0.875 | lr 1.00e-03\n",
            "[11/30] train 0.3541/0.899 | val 0.4467/0.880 | lr 1.00e-03\n",
            "[12/30] train 0.3438/0.900 | val 0.4163/0.887 | lr 1.00e-03\n",
            "[13/30] train 0.3257/0.905 | val 0.4199/0.882 | lr 1.00e-03\n",
            "[14/30] train 0.3167/0.903 | val 0.3959/0.897 | lr 1.00e-03\n",
            "[15/30] train 0.3065/0.909 | val 0.4082/0.897 | lr 1.00e-03\n",
            "[16/30] train 0.2994/0.916 | val 0.4050/0.885 | lr 1.00e-03\n",
            "[17/30] train 0.2901/0.916 | val 0.3962/0.900 | lr 1.00e-03\n",
            "[18/30] train 0.3023/0.911 | val 0.3971/0.892 | lr 1.00e-03\n",
            "[19/30] train 0.2741/0.920 | val 0.4174/0.880 | lr 1.00e-03\n",
            "[20/30] train 0.2626/0.920 | val 0.3905/0.890 | lr 1.00e-03\n",
            "[21/30] train 0.2612/0.926 | val 0.3915/0.902 | lr 1.00e-03\n",
            "[22/30] train 0.2567/0.921 | val 0.3687/0.897 | lr 1.00e-03\n",
            "[23/30] train 0.2459/0.926 | val 0.3805/0.902 | lr 1.00e-03\n",
            "[24/30] train 0.2306/0.932 | val 0.3606/0.895 | lr 1.00e-03\n",
            "[25/30] train 0.2342/0.933 | val 0.3661/0.902 | lr 1.00e-03\n",
            "[26/30] train 0.2219/0.934 | val 0.3491/0.897 | lr 1.00e-03\n",
            "[27/30] train 0.2257/0.937 | val 0.3680/0.897 | lr 1.00e-03\n",
            "[28/30] train 0.2279/0.931 | val 0.3735/0.897 | lr 1.00e-03\n",
            "[29/30] train 0.2083/0.937 | val 0.3608/0.897 | lr 1.00e-03\n",
            "[30/30] train 0.2120/0.935 | val 0.3566/0.902 | lr 1.00e-03\n",
            "[TEST] acc = 0.9030\n"
          ]
        }
      ],
      "source": [
        "WARMUP_EPOCHS   = 30             # 최소 N epoch 전에는 멈추지 않음\n",
        "SCHED_PATIENCE  = 5                # Plateau 5epoch면 LR 감소\n",
        "ES_PATIENCE     = 3 * SCHED_PATIENCE  # LR 감소 뒤 회복 기회 충분히(=15)\n",
        "MIN_DELTA       = 1e-4             # 이만큼만 좋아져도 '개선'으로 인정\n",
        "\n",
        "clf = Classifier(CHANNELS, HIDDEN_UNITS)\n",
        "opt = torch.optim.Adam(clf.parameters(), lr=1e-3, weight_decay=1e-4)\n",
        "loss_fn = nn.CrossEntropyLoss()\n",
        "# sched = torch.optim.lr_scheduler.ReduceLROnPlateau(\n",
        "#     opt, mode='min', factor=0.5, patience=SCHED_PATIENCE, verbose=False\n",
        "# )\n",
        "\n",
        "train_losses, val_losses, train_accs, val_accs = [], [], [], []\n",
        "best_val = float('inf')\n",
        "best_state = None\n",
        "wait = 0\n",
        "\n",
        "def pass_epoch(model, loader, train_mode: bool):\n",
        "    model.train() if train_mode else model.eval()\n",
        "    tot_loss, tot_correct, tot_cnt = 0.0, 0, 0\n",
        "    with torch.set_grad_enabled(train_mode):\n",
        "        for xb, yb in loader:\n",
        "            logits = model(xb)\n",
        "            loss = loss_fn(logits, yb)\n",
        "            if train_mode:\n",
        "                opt.zero_grad()\n",
        "                loss.backward()\n",
        "                opt.step()\n",
        "            tot_loss   += loss.item() * xb.size(0)\n",
        "            tot_correct+= (logits.argmax(1) == yb).sum().item()\n",
        "            tot_cnt    += xb.size(0)\n",
        "    return tot_loss/tot_cnt, tot_correct/tot_cnt\n",
        "\n",
        "for ep in range(1, EPOCHS+1):\n",
        "    tr_loss, tr_acc = pass_epoch(clf, train_loader, True)\n",
        "    va_loss, va_acc = pass_epoch(clf, val_loader,   False)\n",
        "\n",
        "    train_losses.append(tr_loss); train_accs.append(tr_acc)\n",
        "    val_losses.append(va_loss);   val_accs.append(va_acc)\n",
        "\n",
        "    # sched.step(va_loss)\n",
        "    print(f\"[{ep:02d}/{EPOCHS}] train {tr_loss:.4f}/{tr_acc:.3f} | val {va_loss:.4f}/{va_acc:.3f} | lr {opt.param_groups[0]['lr']:.2e}\")\n",
        "\n",
        "    # 개선 판단 + EarlyStopping\n",
        "    if va_loss < best_val - MIN_DELTA:\n",
        "        best_val = va_loss\n",
        "        best_state = copy.deepcopy(clf.state_dict())\n",
        "        wait = 0\n",
        "    else:\n",
        "        wait += 1\n",
        "        # 워밍업 전에는 멈추지 않음\n",
        "        if ep >= WARMUP_EPOCHS and wait >= ES_PATIENCE:\n",
        "            print(f\"Early stop at epoch {ep} (best val loss {best_val:.4f})\")\n",
        "            break\n",
        "\n",
        "# best 가중치 복원\n",
        "if best_state is not None:\n",
        "    clf.load_state_dict(best_state)\n",
        "\n",
        "# 최종 테스트\n",
        "clf.eval()\n",
        "test_correct = 0; test_cnt = 0\n",
        "with torch.no_grad():\n",
        "    for xb, yb in test_loader:\n",
        "        lg = clf(xb)\n",
        "        test_correct += (lg.argmax(1) == yb).sum().item()\n",
        "        test_cnt     += xb.size(0)\n",
        "print(f\"[TEST] acc = {test_correct/test_cnt:.4f}\")"
      ]
    },
    {
      "cell_type": "code",
      "execution_count": 13,
      "id": "45a5d012",
      "metadata": {},
      "outputs": [
        {
          "data": {
            "image/png": "[encoded data removed]",
            "text/plain": [
              "<Figure size 600x400 with 1 Axes>"
            ]
          },
          "metadata": {},
          "output_type": "display_data"
        },
        {
          "data": {
            "image/png": "[encoded data removed]",
            "text/plain": [
              "<Figure size 600x400 with 1 Axes>"
            ]
          },
          "metadata": {},
          "output_type": "display_data"
        }
      ],
      "source": [
        "\n",
        "epochs = range(1, len(train_losses)+1)\n",
        "\n",
        "plt.figure(figsize=(6,4))\n",
        "plt.plot(epochs, train_losses, label=\"train\")\n",
        "plt.plot(epochs, val_losses,   label=\"val\")\n",
        "plt.xlabel(\"epoch\"); plt.ylabel(\"loss\"); plt.legend(); plt.title(\"Loss\")\n",
        "plt.show()\n",
        "\n",
        "plt.figure(figsize=(6,4))\n",
        "plt.plot(epochs, train_accs, label=\"train\")\n",
        "plt.plot(epochs, val_accs,   label=\"val\")\n",
        "plt.xlabel(\"epoch\"); plt.ylabel(\"accuracy\"); plt.legend(); plt.title(\"Accuracy\")\n",
        "plt.show()"
      ]
    },
    {
      "cell_type": "code",
      "execution_count": null,
      "id": "2a278160",
      "metadata": {},
      "outputs": [],
      "source": []
    }
  ],
  "metadata": {
    "kernelspec": {
      "display_name": "qcnn-mnist",
      "language": "python",
      "name": "python3"
    },
    "language_info": {
      "codemirror_mode": {
        "name": "ipython",
        "version": 3
      },
      "file_extension": ".py",
      "mimetype": "text/x-python",
      "name": "python",
      "nbconvert_exporter": "python",
      "pygments_lexer": "ipython3",
      "version": "3.10.18"
    }
  },
  "nbformat": 4,
  "nbformat_minor": 5
}
